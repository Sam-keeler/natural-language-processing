{
 "cells": [
  {
   "cell_type": "code",
   "execution_count": 1,
   "metadata": {},
   "outputs": [],
   "source": [
    "import requests\n",
    "import bs4"
   ]
  },
  {
   "cell_type": "code",
   "execution_count": 2,
   "metadata": {},
   "outputs": [],
   "source": [
    "response = requests.get('https://web-scraping-demo.zgulde.net/people')\n",
    "html = response.text\n",
    "soup = bs4.BeautifulSoup(html)"
   ]
  },
  {
   "cell_type": "code",
   "execution_count": 3,
   "metadata": {},
   "outputs": [],
   "source": [
    "person_container = soup.select('.grid.grid-cols-2.gap-x-12.gap-y-16')[0]"
   ]
  },
  {
   "cell_type": "code",
   "execution_count": 9,
   "metadata": {},
   "outputs": [
    {
     "data": {
      "text/plain": [
       "<div class=\"grid grid-cols-2 gap-x-12 gap-y-16\" id=\"people\">\n",
       "<div class=\"person border rounded px-3 py-5 grid grid-cols-2 gap-x-3 bg-purple-50 hover:shadow-lg transition duration-500\">\n",
       "<h2 class=\"text-2xl text-purple-800 name col-span-full border-b\">Megan Parker</h2>\n",
       "<p class=\"quote col-span-full px-5 py-5 text-center text-gray-500\">\n",
       "            \"Cross-platform didactic capacity\"\n",
       "        </p>\n",
       "<div class=\"grid grid-cols-9\">\n",
       "<i class=\"bi bi-envelope-fill text-purple-800\"></i>\n",
       "<p class=\"email col-span-8\">laurenperez@hotmail.com</p>\n",
       "<i class=\"bi bi-telephone-fill text-purple-800\"></i>\n",
       "<p class=\"phone col-span-8\">(067)086-0264x7809</p>\n",
       "</div>\n",
       "<div class=\"address grid grid-cols-9\">\n",
       "<i class=\"bi bi-geo-fill text-purple-800\"></i>\n",
       "<p class=\"col-span-8\">\n",
       "                09831 Jessica Heights Apt. 720 <br/>\n",
       "                New Kennethstad, ID 78976\n",
       "            </p>\n",
       "</div>\n",
       "</div>\n",
       "<div class=\"person border rounded px-3 py-5 grid grid-cols-2 gap-x-3 bg-purple-50 hover:shadow-lg transition duration-500\">\n",
       "<h2 class=\"text-2xl text-purple-800 name col-span-full border-b\">Juan Wells</h2>\n",
       "<p class=\"quote col-span-full px-5 py-5 text-center text-gray-500\">\n",
       "            \"Balanced eco-centric installation\"\n",
       "        </p>\n",
       "<div class=\"grid grid-cols-9\">\n",
       "<i class=\"bi bi-envelope-fill text-purple-800\"></i>\n",
       "<p class=\"email col-span-8\">williambenson@hotmail.com</p>\n",
       "<i class=\"bi bi-telephone-fill text-purple-800\"></i>\n",
       "<p class=\"phone col-span-8\">(220)909-5528x47467</p>\n",
       "</div>\n",
       "<div class=\"address grid grid-cols-9\">\n",
       "<i class=\"bi bi-geo-fill text-purple-800\"></i>\n",
       "<p class=\"col-span-8\">\n",
       "                723 Brady Mountains Suite 649 <br/>\n",
       "                Woodhaven, WA 11392\n",
       "            </p>\n",
       "</div>\n",
       "</div>\n",
       "<div class=\"person border rounded px-3 py-5 grid grid-cols-2 gap-x-3 bg-purple-50 hover:shadow-lg transition duration-500\">\n",
       "<h2 class=\"text-2xl text-purple-800 name col-span-full border-b\">Rachel Harrington</h2>\n",
       "<p class=\"quote col-span-full px-5 py-5 text-center text-gray-500\">\n",
       "            \"Customizable cohesive Local Area Network\"\n",
       "        </p>\n",
       "<div class=\"grid grid-cols-9\">\n",
       "<i class=\"bi bi-envelope-fill text-purple-800\"></i>\n",
       "<p class=\"email col-span-8\">vickimills@rodriguez-bridges.net</p>\n",
       "<i class=\"bi bi-telephone-fill text-purple-800\"></i>\n",
       "<p class=\"phone col-span-8\">462.838.5303x43788</p>\n",
       "</div>\n",
       "<div class=\"address grid grid-cols-9\">\n",
       "<i class=\"bi bi-geo-fill text-purple-800\"></i>\n",
       "<p class=\"col-span-8\">\n",
       "                40165 Christina Bypass <br/>\n",
       "                North Samantha, NY 21969\n",
       "            </p>\n",
       "</div>\n",
       "</div>\n",
       "<div class=\"person border rounded px-3 py-5 grid grid-cols-2 gap-x-3 bg-purple-50 hover:shadow-lg transition duration-500\">\n",
       "<h2 class=\"text-2xl text-purple-800 name col-span-full border-b\">Peggy Hendricks</h2>\n",
       "<p class=\"quote col-span-full px-5 py-5 text-center text-gray-500\">\n",
       "            \"Enterprise-wide 4thgeneration extranet\"\n",
       "        </p>\n",
       "<div class=\"grid grid-cols-9\">\n",
       "<i class=\"bi bi-envelope-fill text-purple-800\"></i>\n",
       "<p class=\"email col-span-8\">nicole51@harper.com</p>\n",
       "<i class=\"bi bi-telephone-fill text-purple-800\"></i>\n",
       "<p class=\"phone col-span-8\">991-533-4236x5007</p>\n",
       "</div>\n",
       "<div class=\"address grid grid-cols-9\">\n",
       "<i class=\"bi bi-geo-fill text-purple-800\"></i>\n",
       "<p class=\"col-span-8\">\n",
       "                5380 Armstrong Circle Apt. 726 <br/>\n",
       "                Hughesshire, AL 62182\n",
       "            </p>\n",
       "</div>\n",
       "</div>\n",
       "<div class=\"person border rounded px-3 py-5 grid grid-cols-2 gap-x-3 bg-purple-50 hover:shadow-lg transition duration-500\">\n",
       "<h2 class=\"text-2xl text-purple-800 name col-span-full border-b\">Julie Garcia</h2>\n",
       "<p class=\"quote col-span-full px-5 py-5 text-center text-gray-500\">\n",
       "            \"Sharable hybrid approach\"\n",
       "        </p>\n",
       "<div class=\"grid grid-cols-9\">\n",
       "<i class=\"bi bi-envelope-fill text-purple-800\"></i>\n",
       "<p class=\"email col-span-8\">annpaul@larson-hunter.info</p>\n",
       "<i class=\"bi bi-telephone-fill text-purple-800\"></i>\n",
       "<p class=\"phone col-span-8\">477-807-6046x3731</p>\n",
       "</div>\n",
       "<div class=\"address grid grid-cols-9\">\n",
       "<i class=\"bi bi-geo-fill text-purple-800\"></i>\n",
       "<p class=\"col-span-8\">\n",
       "                4082 Madden Shore <br/>\n",
       "                Jonesland, DE 00962\n",
       "            </p>\n",
       "</div>\n",
       "</div>\n",
       "<div class=\"person border rounded px-3 py-5 grid grid-cols-2 gap-x-3 bg-purple-50 hover:shadow-lg transition duration-500\">\n",
       "<h2 class=\"text-2xl text-purple-800 name col-span-full border-b\">Alejandra Martinez</h2>\n",
       "<p class=\"quote col-span-full px-5 py-5 text-center text-gray-500\">\n",
       "            \"Progressive foreground focus group\"\n",
       "        </p>\n",
       "<div class=\"grid grid-cols-9\">\n",
       "<i class=\"bi bi-envelope-fill text-purple-800\"></i>\n",
       "<p class=\"email col-span-8\">james62@key.com</p>\n",
       "<i class=\"bi bi-telephone-fill text-purple-800\"></i>\n",
       "<p class=\"phone col-span-8\">+1-905-794-0466</p>\n",
       "</div>\n",
       "<div class=\"address grid grid-cols-9\">\n",
       "<i class=\"bi bi-geo-fill text-purple-800\"></i>\n",
       "<p class=\"col-span-8\">\n",
       "                651 Jennifer Mission <br/>\n",
       "                Devonborough, HI 19156\n",
       "            </p>\n",
       "</div>\n",
       "</div>\n",
       "<div class=\"person border rounded px-3 py-5 grid grid-cols-2 gap-x-3 bg-purple-50 hover:shadow-lg transition duration-500\">\n",
       "<h2 class=\"text-2xl text-purple-800 name col-span-full border-b\">Alexis Barber</h2>\n",
       "<p class=\"quote col-span-full px-5 py-5 text-center text-gray-500\">\n",
       "            \"Organic object-oriented extranet\"\n",
       "        </p>\n",
       "<div class=\"grid grid-cols-9\">\n",
       "<i class=\"bi bi-envelope-fill text-purple-800\"></i>\n",
       "<p class=\"email col-span-8\">ibarrachristine@hotmail.com</p>\n",
       "<i class=\"bi bi-telephone-fill text-purple-800\"></i>\n",
       "<p class=\"phone col-span-8\">(671)887-0410x22418</p>\n",
       "</div>\n",
       "<div class=\"address grid grid-cols-9\">\n",
       "<i class=\"bi bi-geo-fill text-purple-800\"></i>\n",
       "<p class=\"col-span-8\">\n",
       "                168 Regina Lodge Apt. 280 <br/>\n",
       "                Gomezview, CA 44164\n",
       "            </p>\n",
       "</div>\n",
       "</div>\n",
       "<div class=\"person border rounded px-3 py-5 grid grid-cols-2 gap-x-3 bg-purple-50 hover:shadow-lg transition duration-500\">\n",
       "<h2 class=\"text-2xl text-purple-800 name col-span-full border-b\">Kimberly Malone</h2>\n",
       "<p class=\"quote col-span-full px-5 py-5 text-center text-gray-500\">\n",
       "            \"Ergonomic demand-driven functionalities\"\n",
       "        </p>\n",
       "<div class=\"grid grid-cols-9\">\n",
       "<i class=\"bi bi-envelope-fill text-purple-800\"></i>\n",
       "<p class=\"email col-span-8\">htorres@gmail.com</p>\n",
       "<i class=\"bi bi-telephone-fill text-purple-800\"></i>\n",
       "<p class=\"phone col-span-8\">001-787-898-4240x030</p>\n",
       "</div>\n",
       "<div class=\"address grid grid-cols-9\">\n",
       "<i class=\"bi bi-geo-fill text-purple-800\"></i>\n",
       "<p class=\"col-span-8\">\n",
       "                398 Warren Forge Suite 439 <br/>\n",
       "                Lake Kelly, TX 37301\n",
       "            </p>\n",
       "</div>\n",
       "</div>\n",
       "<div class=\"person border rounded px-3 py-5 grid grid-cols-2 gap-x-3 bg-purple-50 hover:shadow-lg transition duration-500\">\n",
       "<h2 class=\"text-2xl text-purple-800 name col-span-full border-b\">Beth Webb</h2>\n",
       "<p class=\"quote col-span-full px-5 py-5 text-center text-gray-500\">\n",
       "            \"User-friendly regional challenge\"\n",
       "        </p>\n",
       "<div class=\"grid grid-cols-9\">\n",
       "<i class=\"bi bi-envelope-fill text-purple-800\"></i>\n",
       "<p class=\"email col-span-8\">karen62@mayer.com</p>\n",
       "<i class=\"bi bi-telephone-fill text-purple-800\"></i>\n",
       "<p class=\"phone col-span-8\">+1-355-976-8391x854</p>\n",
       "</div>\n",
       "<div class=\"address grid grid-cols-9\">\n",
       "<i class=\"bi bi-geo-fill text-purple-800\"></i>\n",
       "<p class=\"col-span-8\">\n",
       "                000 Megan Brook <br/>\n",
       "                Phillipsbury, GA 83453\n",
       "            </p>\n",
       "</div>\n",
       "</div>\n",
       "<div class=\"person border rounded px-3 py-5 grid grid-cols-2 gap-x-3 bg-purple-50 hover:shadow-lg transition duration-500\">\n",
       "<h2 class=\"text-2xl text-purple-800 name col-span-full border-b\">Michael Fleming</h2>\n",
       "<p class=\"quote col-span-full px-5 py-5 text-center text-gray-500\">\n",
       "            \"Profound executive array\"\n",
       "        </p>\n",
       "<div class=\"grid grid-cols-9\">\n",
       "<i class=\"bi bi-envelope-fill text-purple-800\"></i>\n",
       "<p class=\"email col-span-8\">qfitzgerald@yahoo.com</p>\n",
       "<i class=\"bi bi-telephone-fill text-purple-800\"></i>\n",
       "<p class=\"phone col-span-8\">+1-328-222-8063x769</p>\n",
       "</div>\n",
       "<div class=\"address grid grid-cols-9\">\n",
       "<i class=\"bi bi-geo-fill text-purple-800\"></i>\n",
       "<p class=\"col-span-8\">\n",
       "                73030 Miller Forks Apt. 509 <br/>\n",
       "                East Adrienne, VT 15343\n",
       "            </p>\n",
       "</div>\n",
       "</div>\n",
       "</div>"
      ]
     },
     "execution_count": 9,
     "metadata": {},
     "output_type": "execute_result"
    }
   ],
   "source": [
    "person_container"
   ]
  },
  {
   "cell_type": "code",
   "execution_count": 14,
   "metadata": {},
   "outputs": [],
   "source": [
    "people = person_container.select('.person.border.rounded')"
   ]
  },
  {
   "cell_type": "code",
   "execution_count": 17,
   "metadata": {},
   "outputs": [
    {
     "name": "stdout",
     "output_type": "stream",
     "text": [
      "<div class=\"person border rounded px-3 py-5 grid grid-cols-2 gap-x-3 bg-purple-50 hover:shadow-lg transition duration-500\">\n",
      " <h2 class=\"text-2xl text-purple-800 name col-span-full border-b\">\n",
      "  Megan Parker\n",
      " </h2>\n",
      " <p class=\"quote col-span-full px-5 py-5 text-center text-gray-500\">\n",
      "  \"Cross-platform didactic capacity\"\n",
      " </p>\n",
      " <div class=\"grid grid-cols-9\">\n",
      "  <i class=\"bi bi-envelope-fill text-purple-800\">\n",
      "  </i>\n",
      "  <p class=\"email col-span-8\">\n",
      "   laurenperez@hotmail.com\n",
      "  </p>\n",
      "  <i class=\"bi bi-telephone-fill text-purple-800\">\n",
      "  </i>\n",
      "  <p class=\"phone col-span-8\">\n",
      "   (067)086-0264x7809\n",
      "  </p>\n",
      " </div>\n",
      " <div class=\"address grid grid-cols-9\">\n",
      "  <i class=\"bi bi-geo-fill text-purple-800\">\n",
      "  </i>\n",
      "  <p class=\"col-span-8\">\n",
      "   09831 Jessica Heights Apt. 720\n",
      "   <br/>\n",
      "   New Kennethstad, ID 78976\n",
      "  </p>\n",
      " </div>\n",
      "</div>\n",
      "\n"
     ]
    }
   ],
   "source": [
    "print(person.prettify())"
   ]
  },
  {
   "cell_type": "code",
   "execution_count": 21,
   "metadata": {},
   "outputs": [],
   "source": [
    "person = people[0]"
   ]
  },
  {
   "cell_type": "code",
   "execution_count": 22,
   "metadata": {},
   "outputs": [],
   "source": [
    "name = person.find('h2').text"
   ]
  },
  {
   "cell_type": "code",
   "execution_count": 23,
   "metadata": {},
   "outputs": [
    {
     "data": {
      "text/plain": [
       "'Megan Parker'"
      ]
     },
     "execution_count": 23,
     "metadata": {},
     "output_type": "execute_result"
    }
   ],
   "source": [
    "name"
   ]
  },
  {
   "cell_type": "code",
   "execution_count": 29,
   "metadata": {},
   "outputs": [],
   "source": [
    "quote = person.find_all('p')"
   ]
  },
  {
   "cell_type": "code",
   "execution_count": 31,
   "metadata": {},
   "outputs": [
    {
     "data": {
      "text/plain": [
       "<p class=\"quote col-span-full px-5 py-5 text-center text-gray-500\">\n",
       "            \"Cross-platform didactic capacity\"\n",
       "        </p>"
      ]
     },
     "execution_count": 31,
     "metadata": {},
     "output_type": "execute_result"
    }
   ],
   "source": [
    "quote[0]"
   ]
  },
  {
   "cell_type": "code",
   "execution_count": null,
   "metadata": {},
   "outputs": [],
   "source": []
  }
 ],
 "metadata": {
  "kernelspec": {
   "display_name": "Python 3",
   "language": "python",
   "name": "python3"
  },
  "language_info": {
   "codemirror_mode": {
    "name": "ipython",
    "version": 3
   },
   "file_extension": ".py",
   "mimetype": "text/x-python",
   "name": "python",
   "nbconvert_exporter": "python",
   "pygments_lexer": "ipython3",
   "version": "3.8.5"
  }
 },
 "nbformat": 4,
 "nbformat_minor": 4
}
